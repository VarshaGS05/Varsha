{
  "metadata": {
    "language_info": {
      "codemirror_mode": {
        "name": "python",
        "version": 3
      },
      "file_extension": ".py",
      "mimetype": "text/x-python",
      "name": "python",
      "nbconvert_exporter": "python",
      "pygments_lexer": "ipython3",
      "version": "3.8"
    },
    "kernelspec": {
      "name": "python",
      "display_name": "Pyolite",
      "language": "python"
    }
  },
  "nbformat_minor": 4,
  "nbformat": 4,
  "cells": [
    {
      "cell_type": "code",
      "source": "# 1. Try to extract data from index one to index 300 with jump 3\ns=\"this is My First python programming class and i am learNING python string and its function\"\ns[1:300:3]\n",
      "metadata": {
        "trusted": true
      },
      "execution_count": 6,
      "outputs": [
        {
          "execution_count": 6,
          "output_type": "execute_result",
          "data": {
            "text/plain": "'h   r tnrrmglsnimeNGyosi dtfco'"
          },
          "metadata": {}
        }
      ]
    },
    {
      "cell_type": "code",
      "source": "#2.try to reverse a string without using reverse function \ns=\"this is My First Python programming class i am learNING python string and it's function\"\n''.join(reversed(s))\n#or\ns[::-1]",
      "metadata": {
        "trusted": true
      },
      "execution_count": 45,
      "outputs": [
        {
          "execution_count": 45,
          "output_type": "execute_result",
          "data": {
            "text/plain": "\"noitcnuf s'ti dna gnirts nohtyp GNINrael ma i ssalc gnimmargorp nohtyP tsriF yM si siht\""
          },
          "metadata": {}
        }
      ]
    },
    {
      "cell_type": "code",
      "source": "#3.try to spilt a string after converstion of entire string in uppercase\ns.upper().split(' ')",
      "metadata": {
        "trusted": true
      },
      "execution_count": 24,
      "outputs": [
        {
          "execution_count": 24,
          "output_type": "execute_result",
          "data": {
            "text/plain": "['THIS',\n 'IS',\n 'MY',\n 'FIRST',\n 'PYTHON',\n 'PROGRAMMING',\n 'CLASS',\n 'AND',\n 'I',\n 'AM',\n 'LEARNING',\n 'PYTHON',\n 'STRING',\n 'AND',\n 'ITS',\n 'FUNCTION']"
          },
          "metadata": {}
        }
      ]
    },
    {
      "cell_type": "code",
      "source": "#4. try to convert the whole string into lowercase\ns.lower()",
      "metadata": {
        "trusted": true
      },
      "execution_count": 25,
      "outputs": [
        {
          "execution_count": 25,
          "output_type": "execute_result",
          "data": {
            "text/plain": "'this is my first python programming class and i am learning python string and its function'"
          },
          "metadata": {}
        }
      ]
    },
    {
      "cell_type": "code",
      "source": "#5.Try to capitailize the whole string\ns.capitalize()",
      "metadata": {
        "trusted": true
      },
      "execution_count": 26,
      "outputs": [
        {
          "execution_count": 26,
          "output_type": "execute_result",
          "data": {
            "text/plain": "'This is my first python programming class and i am learning python string and its function'"
          },
          "metadata": {}
        }
      ]
    },
    {
      "cell_type": "code",
      "source": "#6. write a difference between isalnum() and isalpha()\nisalnum()\nReturn True,if the string is an alpha-numberic string, otherwise it's false.\n\nisalpha()\nReturn True if the string is alphabetic string, otherwise it's false. ",
      "metadata": {
        "trusted": true
      },
      "execution_count": 28,
      "outputs": [
        {
          "execution_count": 28,
          "output_type": "execute_result",
          "data": {
            "text/plain": "False"
          },
          "metadata": {}
        }
      ]
    },
    {
      "cell_type": "code",
      "source": "#7. Try to give example of expand tab\ns1=\"varsha\\tgs\\tpython\"\ns1.expandtabs()",
      "metadata": {
        "trusted": true
      },
      "execution_count": 42,
      "outputs": [
        {
          "execution_count": 42,
          "output_type": "execute_result",
          "data": {
            "text/plain": "'varsha  gs      python'"
          },
          "metadata": {}
        }
      ]
    },
    {
      "cell_type": "code",
      "source": "#8. give an example of strip, rstrip & lstrip\n#Strip\na=\"  var  sha  \"\na.strip()",
      "metadata": {
        "trusted": true
      },
      "execution_count": 47,
      "outputs": [
        {
          "execution_count": 47,
          "output_type": "execute_result",
          "data": {
            "text/plain": "'var  sha'"
          },
          "metadata": {}
        }
      ]
    },
    {
      "cell_type": "code",
      "source": "#rstrip\na.rstrip()",
      "metadata": {
        "trusted": true
      },
      "execution_count": 48,
      "outputs": [
        {
          "execution_count": 48,
          "output_type": "execute_result",
          "data": {
            "text/plain": "'  var  sha'"
          },
          "metadata": {}
        }
      ]
    },
    {
      "cell_type": "code",
      "source": "#lstrip\na.lstrip()",
      "metadata": {
        "trusted": true
      },
      "execution_count": 49,
      "outputs": [
        {
          "execution_count": 49,
          "output_type": "execute_result",
          "data": {
            "text/plain": "'var  sha  '"
          },
          "metadata": {}
        }
      ]
    },
    {
      "cell_type": "code",
      "source": "# 9. Replace a string character by another character by taking your example \"sudhanshu\"\nb=\"sudhanshu\"\nb.replace('sudhanshu', 'varsha')\n",
      "metadata": {
        "trusted": true
      },
      "execution_count": 56,
      "outputs": [
        {
          "execution_count": 56,
          "output_type": "execute_result",
          "data": {
            "text/plain": "'varsha'"
          },
          "metadata": {}
        }
      ]
    },
    {
      "cell_type": "code",
      "source": "#10. try to give a definition of string center function with and example\n#definition:\n#(The string center() method performs padding on the string with a specific character on both sides(left & right) oof the input string in a centeralized form.\n\n#example:\nc=\"varsha\"\nc.center(20, 'c')",
      "metadata": {
        "trusted": true
      },
      "execution_count": 59,
      "outputs": [
        {
          "execution_count": 59,
          "output_type": "execute_result",
          "data": {
            "text/plain": "'cccccccvarshaccccccc'"
          },
          "metadata": {}
        }
      ]
    },
    {
      "cell_type": "code",
      "source": "#11. write your definition of compiler and interpreter without copy & paste of internet in your own language\n#complier:\nA program that translates, written in one programming to another programming \n( high level language to machine level lanuage) is called Compiler.\n\n#interpreter:\nThe process of output. which means, the source code is taken by interpreter and it's convert into bytecode then virtual.\nafter the completed the process we have program output.\n\n#12. Python is interpreted compiled langauge. give a defition:\n The complier part is hidden from the programmer ths, many programmers believe that it is an interpreted language. \nwe just save with the extension.\"py\". the scripted language conver them to an object code or machine code. \n\n#13. try to write a use case of python:\npython help them extract, process and manipulate data via various python libraries. python skills are increasingly\nin demand across both big and small data - driven organizations. \n\n#14. \n\n",
      "metadata": {},
      "execution_count": null,
      "outputs": []
    }
  ]
}